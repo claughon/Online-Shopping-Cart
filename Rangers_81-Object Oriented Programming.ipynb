{
 "cells": [
  {
   "cell_type": "markdown",
   "metadata": {},
   "source": [
    "# Object-Oriented-Programming (OOP)"
   ]
  },
  {
   "cell_type": "markdown",
   "metadata": {},
   "source": [
    "## Tasks Today:\n",
    "\n",
    "   \n",
    "\n",
    "1) <b>Creating a Class (Initializing/Declaring)</b> <br>\n",
    "2) <b>Using a Class (Instantiating)</b> <br>\n",
    " &nbsp;&nbsp;&nbsp;&nbsp; a) Creating One Instance <br>\n",
    " &nbsp;&nbsp;&nbsp;&nbsp; b) Creating Multiple Instances <br>\n",
    " &nbsp;&nbsp;&nbsp;&nbsp; c) In-Class Exercise #1 - Create a Class 'Car' and instantiate three different makes of cars <br>\n",
    "3) <b>The \\__init\\__() Method</b> <br>\n",
    " &nbsp;&nbsp;&nbsp;&nbsp; a) The 'self' Attribute <br>\n",
    "4) <b>Class Attributes</b> <br>\n",
    " &nbsp;&nbsp;&nbsp;&nbsp; a) Initializing Attributes <br>\n",
    " &nbsp;&nbsp;&nbsp;&nbsp; b) Setting an Attribute Outside of the \\__init\\__() Method <br>\n",
    " &nbsp;&nbsp;&nbsp;&nbsp; c) Setting Defaults for Attributes <br>\n",
    " &nbsp;&nbsp;&nbsp;&nbsp; d) Accessing Class Attributes <br>\n",
    " &nbsp;&nbsp;&nbsp;&nbsp; e) Changing Class Attributes <br>\n",
    " &nbsp;&nbsp;&nbsp;&nbsp; f) In-Class Exercise #2 - Add a color and wheels attribute to your 'Car' class <br>\n",
    "5) <b>Class Methods</b> <br>\n",
    " &nbsp;&nbsp;&nbsp;&nbsp; a) Creating <br>\n",
    " &nbsp;&nbsp;&nbsp;&nbsp; b) Calling <br>\n",
    " &nbsp;&nbsp;&nbsp;&nbsp; c) Modifying an Attribute's Value Through a Method <br>\n",
    " &nbsp;&nbsp;&nbsp;&nbsp; d) Incrementing an Attribute's Value Through a Method <br>\n",
    " &nbsp;&nbsp;&nbsp;&nbsp; e) In-Class Exercise #3 - Add a method that prints the cars color and wheel number, then call them <br>\n",
    "6) <b>Inheritance</b> <br>\n",
    " &nbsp;&nbsp;&nbsp;&nbsp; a) Syntax for Inheriting from a Parent Class <br>\n",
    " &nbsp;&nbsp;&nbsp;&nbsp; b) The \\__init\\__() Method for a Child Class (super()) <br>\n",
    " &nbsp;&nbsp;&nbsp;&nbsp; c) Defining Attributes and Methods for the Child Class <br>\n",
    " &nbsp;&nbsp;&nbsp;&nbsp; d) Method Overriding <br>\n",
    " &nbsp;&nbsp;&nbsp;&nbsp; e) In-Class Exercise #4 - Create a class 'Ford' that inherits from 'Car' class and initialize it as a Blue Ford Explorer with 4 wheels using the super() method <br>\n",
    "7) <b>Classes as Attributes</b> <br>\n",
    "8) <b>Exercises</b> <br>\n",
    " &nbsp;&nbsp;&nbsp;&nbsp; a) Exercise #1 - Turn the shopping cart program from last week into an object-oriented program <br>"
   ]
  },
  {
   "cell_type": "code",
   "execution_count": null,
   "metadata": {},
   "outputs": [],
   "source": [
    "#Solutions for recursion problem on codewars\n",
    "\n",
    "def digital_root(n):\n",
    "    while len(str(n)) > 1:\n",
    "        n = sum([int(x) for x in str(n)])\n",
    "    return n"
   ]
  },
  {
   "cell_type": "code",
   "execution_count": null,
   "metadata": {},
   "outputs": [],
   "source": [
    "def digital_root(n):\n",
    "    \n",
    "    if n < 10:\n",
    "        return n \n",
    "    \n",
    "    else:\n",
    "        n = sum([int(x) for x in list(str(n))])\n",
    "        return digital_root(n)"
   ]
  },
  {
   "cell_type": "code",
   "execution_count": null,
   "metadata": {},
   "outputs": [],
   "source": [
    "def digital_root(n):\n",
    "\n",
    "    x = str(n)\n",
    "    r = 0\n",
    "    if len(x) == 1:\n",
    "        return n\n",
    "    else:\n",
    "        while len(x) > 1:\n",
    "            r = 0\n",
    "            for i in range(len(x)):\n",
    "                r = r + int(x[i])\n",
    "            x = str(r)\n",
    "        return r\n",
    "\n",
    "print(digital_root(2))"
   ]
  },
  {
   "cell_type": "markdown",
   "metadata": {},
   "source": [
    "## Creating a Class (Initializing/Declaring)\n",
    "<p>When creating a class, function, or even a variable you are initializing that object. Initializing and Declaring occur at the same time in Python, whereas in lower level languages you have to declare an object before initializing it. This is the first step in the process of using a class.</p>"
   ]
  },
  {
   "cell_type": "code",
   "execution_count": null,
   "metadata": {},
   "outputs": [],
   "source": [
    "#class name needs to start with a capital letter ALWAYS\n",
    "#under the class are things that are called attributes, which will always stay programed into the class\n",
    "\n",
    "class Car():\n",
    "    wheels = 4\n",
    "    color = 'blue'\n",
    "    fuel_tank = 15"
   ]
  },
  {
   "cell_type": "markdown",
   "metadata": {},
   "source": [
    "## Using a Class (Instantiating)\n",
    "<p>The process of creating a class is called <i>Instantiating</i>. Each time you create a variable of that type of class, it is referred to as an <i>Instance</i> of that class. This is the second step in the process of using a class.</p>"
   ]
  },
  {
   "cell_type": "markdown",
   "metadata": {},
   "source": [
    "##### Creating One Instance"
   ]
  },
  {
   "cell_type": "code",
   "execution_count": null,
   "metadata": {},
   "outputs": [],
   "source": [
    "ford = Car()"
   ]
  },
  {
   "cell_type": "markdown",
   "metadata": {},
   "source": [
    "##### Creating Multiple Instances"
   ]
  },
  {
   "cell_type": "code",
   "execution_count": null,
   "metadata": {},
   "outputs": [],
   "source": [
    "mazda = Car()\n",
    "chevy = Car()\n",
    "\n",
    "print(mazda.wheels)\n",
    "print(mazda.color)\n",
    "print(\"\\n\")\n",
    "print(chevy.color)\n",
    "print(chevy.wheels)\n",
    "print(chevy.fuel_tank)\n",
    "\n",
    "print(f\"This is a {chevy.color} chevy and it has {chevy.wheels} wheels\")"
   ]
  },
  {
   "cell_type": "markdown",
   "metadata": {},
   "source": [
    "##### In-Class Exercise #1 - Create a Class 'Car' and Instantiate three different makes of cars"
   ]
  },
  {
   "cell_type": "code",
   "execution_count": null,
   "metadata": {},
   "outputs": [],
   "source": [
    "#mine\n",
    "\n",
    "class Vehicle():\n",
    "    fuel = 'gasoline'\n",
    "    color = 'metallic gray'\n",
    "    style = 'SUV'\n",
    "    \n",
    "toyota = Vehicle()\n",
    "honda = Vehicle()\n",
    "gmc = Vehicle()\n",
    "\n",
    "print(f\"This is a Toyota {toyota.style}, it runs on {toyota.fuel} and is {toyota.color}!\")"
   ]
  },
  {
   "cell_type": "code",
   "execution_count": null,
   "metadata": {},
   "outputs": [],
   "source": [
    "#Beck's example, I like it\n",
    "\n",
    "class Carz():\n",
    "    year = 2021\n",
    "    doors = \"4 door\"\n",
    "    color = \"white\"\n",
    "    \n",
    "dodge = Carz()\n",
    "jeep = Carz()\n",
    "subaru = Carz()\n",
    "\n",
    "print(f\"I really want a {jeep.color}, {jeep.doors} Jeep from {jeep.year}, I don't care about rollover risk, Dad.\")"
   ]
  },
  {
   "cell_type": "markdown",
   "metadata": {},
   "source": [
    "## The \\__init\\__() Method <br>\n",
    "<p>This method is used in almost every created class, and called only once upon the creation of the class instance. This method will initialize all variables needed for the object.</p>"
   ]
  },
  {
   "cell_type": "code",
   "execution_count": null,
   "metadata": {},
   "outputs": [],
   "source": [
    "#responsible for storing attributes in a class\n",
    "\n",
    "class Car():\n",
    "    ENGINE = '4.7 L' #This is a constant and will be set using all CAPS, most likely will apply to all \n",
    "#                         classes and is not going to change. Not very common but if every single item \n",
    "                         # is going to have it you can use it\n",
    "    def __init__(self, wheels, color): #wheels and color are the attributes  #self is representing the object\n",
    "        self.wheels = wheels\n",
    "        self.color = color\n",
    "        \n",
    "mazda = Car(4, \"blue\")     #These attributes are positional and their positions DO matter\n",
    "print(mazda.wheels)        #If there are two attributes set in the def function, there need to be two when calling the function\n",
    "print(mazda.color)\n",
    "\n",
    "my_dict = mazda.__dict__\n",
    "print(my_dict)\n",
    "\n",
    "porsche = Car(4, \"yellow\")\n",
    "print(porsche.color)\n",
    "print(porsche.wheels)\n",
    "\n",
    "porsche.wheels += 1\n",
    "print(porsche.wheels)"
   ]
  },
  {
   "cell_type": "markdown",
   "metadata": {},
   "source": [
    "##### The 'self' Attribute <br>\n",
    "<p>This attribute is required to keep track of specific instance's attributes. Without the self attribute, the program would not know how to reference or keep track of an instance's attributes.</p>"
   ]
  },
  {
   "cell_type": "code",
   "execution_count": null,
   "metadata": {},
   "outputs": [],
   "source": [
    "# see above\n",
    "class Pokemon():\n",
    "    def __init__(self, type_, weakness, strength, nature):\n",
    "        self.type_ = type_\n",
    "        self.weakness = weakness\n",
    "        self.strength = strength\n",
    "        self.nature = nature\n",
    "charmander = Pokemon(\"fire\", [\"water\", \"rock\", \"ground\"], [\"grass\", \"bug\", \"ice\", \"steel\"], \"Adamant\")\n",
    "bulbasaur = Pokemon([\"grass\", \"poison\"], [\"fire\", \"flying\", \"ice\"], [\"rock\", \"ground\", \"water\"], \"Adamant\")\n",
    "\n",
    "print(charmander.strength)\n",
    "print(bulbasaur.strength)\n",
    "\n",
    "\n",
    "#self. is the name for object (in this case self is charmander and bulbasaur)\n",
    "#the things on the right of the = are the lists and attributes that apply to the object"
   ]
  },
  {
   "cell_type": "markdown",
   "metadata": {},
   "source": [
    "## Class Attributes <br>\n",
    "<p>While variables are inside of a class, they are referred to as attributes and not variables. When someone says 'attribute' you know they're speaking about a class. Attributes can be initialized through the init method, or outside of it.</p>"
   ]
  },
  {
   "cell_type": "markdown",
   "metadata": {},
   "source": [
    "##### Initializing Attributes"
   ]
  },
  {
   "cell_type": "code",
   "execution_count": null,
   "metadata": {},
   "outputs": [],
   "source": [
    "class Dessert():\n",
    "    def __init__(self, temp, type_, flavor, sweetness, serving):\n",
    "        self.temp = temp\n",
    "        self.type_ = type_\n",
    "        self.flavor = flavor\n",
    "        self.sweetness = sweetness\n",
    "        self.serving = serving\n",
    "        \n"
   ]
  },
  {
   "cell_type": "markdown",
   "metadata": {},
   "source": [
    "##### Accessing Class Attributes"
   ]
  },
  {
   "cell_type": "code",
   "execution_count": null,
   "metadata": {
    "scrolled": false
   },
   "outputs": [],
   "source": [
    "tiramisu = Dessert(\"cold\", \"Italian\", \"coffee flavored\", \"medium\", \"large\")\n",
    "print(f\"I like tiramisu because it is {tiramisu.temp}, {tiramisu.type_}, and {tiramisu.flavor}. The sweetness is {tiramisu.sweetness} and I want a {tiramisu.serving} serving!\")"
   ]
  },
  {
   "cell_type": "markdown",
   "metadata": {},
   "source": [
    "##### Setting Defaults for Attributes"
   ]
  },
  {
   "cell_type": "code",
   "execution_count": null,
   "metadata": {},
   "outputs": [],
   "source": [
    "class Car():\n",
    "    ENGINE = \"4.7 L\" #constant attribute - that is not likely to be changed\n",
    "    def __init__(self, wheels):\n",
    "        self.wheels = wheels\n",
    "        self.color = \"Blue\" #Default attribut - this can be changed at any time\n",
    "\n",
    "lumina = Car(4)\n",
    "print(lumina.color)\n",
    "lumina.color = \"Turquoise\"\n",
    "print(lumina.color)"
   ]
  },
  {
   "cell_type": "code",
   "execution_count": null,
   "metadata": {},
   "outputs": [],
   "source": [
    "class Car():\n",
    "    ENGINE = \"4.7 L\" #constant attribute - that is not likely to be changed\n",
    "    def __init__(self, wheels, color = \"Blue\"):\n",
    "        self.wheels = wheels\n",
    "        self.color = color #Default attribute - this can be changed at any time\n",
    "        \n",
    "mazda = Car(4, \"Yellow\")\n",
    "print(mazda.wheels)\n",
    "print(mazda.color)"
   ]
  },
  {
   "cell_type": "markdown",
   "metadata": {},
   "source": [
    "##### Changing Class Attributes <br>\n",
    "<p>Keep in mind there are global class attributes and then there are attributes only available to each class instance which won't effect other classes.</p>"
   ]
  },
  {
   "cell_type": "code",
   "execution_count": null,
   "metadata": {},
   "outputs": [],
   "source": [
    "class Car():\n",
    "    ENGINE = \"4.7 L\" #constant attribute - that is not likely to be changed\n",
    "    def __init__(self, wheels, color):\n",
    "        self.wheels = wheels\n",
    "        self.color = color #Default attribut - this can be changed at any time\n",
    "        \n",
    "beetle = Car(4, 'white')\n",
    "print(\"Before attribute change \")\n",
    "print(beetle.wheels)\n",
    "print(beetle.color)\n",
    "print(\"\\n\")\n",
    "print(\"After attribute change \")       #Here we are changing the attributes by replacing them\n",
    "beetle.wheels = 5\n",
    "print(beetle.wheels)\n",
    "beetle.color = \"black with racing stripes\"\n",
    "print(beetle.color)"
   ]
  },
  {
   "cell_type": "code",
   "execution_count": null,
   "metadata": {},
   "outputs": [],
   "source": [
    "#Changing the attribute (like above) only effects that specific object at that specific time\n",
    "#It does not alter the original class just for that instance\n",
    "\n",
    "beetle = Car(4, \"white\")\n",
    "print(beetle.wheels)\n",
    "print(beetle.color)"
   ]
  },
  {
   "cell_type": "markdown",
   "metadata": {},
   "source": [
    "##### In-Class Exercise #2 - Add a doors and seats attribute to your 'Car' class then print out two different instances with different doors and seats"
   ]
  },
  {
   "cell_type": "code",
   "execution_count": null,
   "metadata": {},
   "outputs": [],
   "source": [
    "#mine\n",
    "\n",
    "class Car():\n",
    "    ENGINE = \"4.7 L\"\n",
    "    def __init__(self, color, doors, seats):\n",
    "        self.color = color \n",
    "        self.doors = doors\n",
    "        self.seats = seats\n",
    "    \n",
    "corvette = Car(\"white\", 2, 2)\n",
    "print(f\"The Corvette Stingray looks best when in {corvette.color}, and it only has {corvette.doors} doors and can only sit {corvette.seats} people!\")\n",
    "       \n",
    "tahoe = Car(\"piano black\", 5, 8)\n",
    "print(f\"The Tahoe looks best in {tahoe.color}, it has {tahoe.doors} doors, including the rear hatch and can sit a whooping {tahoe.seats} people!\")"
   ]
  },
  {
   "cell_type": "code",
   "execution_count": null,
   "metadata": {},
   "outputs": [],
   "source": [
    "#Beck's example(nice because they used default attributes in the attribut lines)\n",
    "\n",
    "class Car():\n",
    "    ENGINE = \"4.7 L\" # constant attribute - that is not likely to be changed\n",
    "    def __init__(self, wheels, color):\n",
    "        self.wheels = wheels\n",
    "        self.color = color\n",
    "        self.doors = 4\n",
    "        self.seats = 23          #Can set these attributes to default here and change them when calling, if needed\n",
    "\n",
    "jeep = Car(4, \"white\")\n",
    "print(f\"My Jeep has {jeep.doors} doors and {jeep.seats} seats.\")\n",
    "print(\"Wait that doesn't sound right.\")\n",
    "jeep.seats = 5\n",
    "print(f\"Now my Jeep has {jeep.doors} doors and {jeep.seats} seats, which is way more reasonable.\")"
   ]
  },
  {
   "cell_type": "markdown",
   "metadata": {},
   "source": [
    "## Class Methods <br>\n",
    "<p>While inside of a class, functions are referred to as 'methods'. If you hear someone mention methods, they're speaking about classes. Methods are essentially functions, but only callable on the instances of a class.</p>"
   ]
  },
  {
   "cell_type": "markdown",
   "metadata": {},
   "source": [
    "##### Creating"
   ]
  },
  {
   "cell_type": "code",
   "execution_count": null,
   "metadata": {},
   "outputs": [],
   "source": [
    "class Bus():\n",
    "    \"\"\"The bus will have doors, seats, seats available, color and a bus driver\n",
    "    \n",
    "    Attributes for the class:\n",
    "    doors: integer\n",
    "    seats: integer\n",
    "    seats_available: integer\n",
    "    color: string\n",
    "    bus_driver: string\"\"\"\n",
    "    \n",
    "    def __init__(self, doors, seats, seats_available, color, bus_driver):\n",
    "        self.doors = doors\n",
    "        self.seats = seats\n",
    "        self.seats_available = seats_available\n",
    "        self.color = color\n",
    "        self.bus_driver = bus_driver\n",
    "        \n",
    "    #Decrement the number of seats availavle based on passengers getting on with a method\n",
    "    def load_passengers(self):\n",
    "        if self.seats_available <= 0:\n",
    "            print(\"This bus is full! You can't take anymore passengers.\")\n",
    "            if self.seats_available < 0:\n",
    "                print(f\"You left {abs(self.seats_available)} people by the road!\")\n",
    "                self.seats_available = 0\n",
    "                \n",
    "        else:\n",
    "            passengers = int(input(\"How many passengers are getting on?\"))\n",
    "            self.seats_available -= passengers\n",
    "            print(f\"{passengers} have boarderd the bus and there are {self.seats_available} seats available.\")\n",
    "    #increment number of seats available with a method        \n",
    "    def unload_passengers(self):\n",
    "        if self.seats_available >= self.seats:\n",
    "            print(\"There is no one left on the bus. Go home! Thank you, bus driver!\")\n",
    "            self.seats_available = self.seats\n",
    "        else:\n",
    "            unload = int(input(\"How many passengers are getting off of the bus?\"))\n",
    "            self.seats_available += unload\n",
    "            if self.seats_available >= self.seats:\n",
    "                self.seats_available = self.seats\n",
    "                print(f\"{unload} passengers have left the bus. There are {self.seats_available} seats available!\")\n",
    "            print(f\"{unload} passengers have left the bus. There are {self.seats_available} seats available.\")\n",
    "    #Modifying an attribute's value with a method        \n",
    "    def change_driver(self):\n",
    "        change = input(\"Who is replacing you?\")\n",
    "        self.bus_driver = change\n",
    "        print(f\"The new bus driver is {self.bus_driver.title()}!\")\n",
    "        \n",
    "    def check_seats(self):\n",
    "        print(f\"You notice that there are {self.seats_available} available!\")\n",
    "        \n",
    "    def admire_bus(self):\n",
    "        print(f\"Would you just look at that beautiful {self.color} bus!\")\n",
    "        \n",
    "cecilia_bus = Bus(2, 90, 45, \"green\", \"Cecilia\")"
   ]
  },
  {
   "cell_type": "markdown",
   "metadata": {},
   "source": [
    "##### Calling"
   ]
  },
  {
   "cell_type": "code",
   "execution_count": null,
   "metadata": {},
   "outputs": [],
   "source": [
    "def run():\n",
    "    while True:\n",
    "        response = input(\"What would you like to do? Load/Unload/Change Driver/Check Seats/Admire/Quit: \")\n",
    "        response = response.lower()\n",
    "        if response == \"quit\":\n",
    "            print(\"Oh no! There are still passengers to be picked up! :(\")\n",
    "            break\n",
    "        elif response == \"load\":\n",
    "            cecilia_bus.load_passengers()\n",
    "        elif response == \"unload\":\n",
    "            cecilia_bus.unload_passengers()\n",
    "        elif response == \"change driver\":\n",
    "            cecilia_bus.change_driver()\n",
    "        elif response == \"check seats\":\n",
    "            cecilia_bus.check_seats()\n",
    "        elif response == \"admire\":\n",
    "            cecilia_bus.admire_bus()\n",
    "        else:\n",
    "            print(\"You can't do that on my bus! Please enter a valid response!\")\n",
    "            \n",
    "run()"
   ]
  },
  {
   "cell_type": "markdown",
   "metadata": {},
   "source": [
    "##### Modifying an Attribute's Value Through a Method"
   ]
  },
  {
   "cell_type": "code",
   "execution_count": null,
   "metadata": {},
   "outputs": [],
   "source": []
  },
  {
   "cell_type": "markdown",
   "metadata": {},
   "source": [
    "##### Incrementing an Attribute's Value Through a Method"
   ]
  },
  {
   "cell_type": "code",
   "execution_count": null,
   "metadata": {},
   "outputs": [],
   "source": []
  },
  {
   "cell_type": "markdown",
   "metadata": {},
   "source": [
    "##### In-Class Exercise #3 - Add a method that takes in three parameters of year, doors and seats and prints out a formatted print statement with make, model, year, seats, and doors"
   ]
  },
  {
   "cell_type": "code",
   "execution_count": null,
   "metadata": {},
   "outputs": [],
   "source": [
    "# Create a class that has at least 2 parameters in the __init__()\n",
    "# create a method that prints information on the object\n",
    "# create another method that modifies an attribute\n",
    "# Output of print_method: This car is from 2019 and is a Ford Expolorer and has 4 doors and 5 seats\n",
    "\n",
    "\n",
    "class Library():\n",
    "    def __init__(self):\n",
    "        self.genre = \" \"\n",
    "        self.cover = \" \"\n",
    "        \n",
    "    def genre_book(self):\n",
    "        change = input(\"What is your favorite genre of book? \")\n",
    "        self.genre = change\n",
    "        print(f\"Your favorite genre is {self.genre.title()}!\")\n",
    "        \n",
    "    def cover_book(self):\n",
    "        while True:\n",
    "            response = input(\"What kind of book do you prefer? Hard cover/paperback/e-reader or hit 'Q' to quit! \")\n",
    "            response = response.lower().strip()\n",
    "            if response == \"q\":\n",
    "                print(\"Thank you for sharing your favorite book genre and way to read them!\")\n",
    "                break\n",
    "            elif response == \"hard cover\":\n",
    "                print(f\"Nice hard cover books are awesome!\")\n",
    "            elif response == \"paperback\":\n",
    "                print(f\"Paperback books are amazing to read!\")\n",
    "            elif response == \"e-reader\":\n",
    "                print(f\"E-readers are super convienent to have too!\")\n",
    "            else:\n",
    "                print(f\"Please pick a valid response!\")\n",
    "                \n",
    "cecilia_library = Library()\n",
    "cecilia_library.genre_book()\n",
    "cecilia_library.cover_book()"
   ]
  },
  {
   "cell_type": "code",
   "execution_count": null,
   "metadata": {},
   "outputs": [],
   "source": [
    "class Library():\n",
    "    def __init__(self, book, author, genre):\n",
    "        self.book = book\n",
    "        self.author = author\n",
    "        self.genre = genre\n",
    "        \n",
    "    def get_fav_book(self):\n",
    "        print(f\"My favorite {self.genre} book is {self.book} by {self.author}!\")\n",
    "        \n",
    "cecilia = Library(\"Code Orange\", \"Caroline B. Cooney\", \"Young Adult\")"
   ]
  },
  {
   "cell_type": "code",
   "execution_count": null,
   "metadata": {},
   "outputs": [],
   "source": [
    "#Beck's answer\n",
    "\n",
    "class Books():\n",
    "    def __init__(self, author, genre, title):\n",
    "        self.author = author\n",
    "        self.genre = genre\n",
    "        self.title = title\n",
    "    \n",
    "    def myBook(self):\n",
    "        print(f\"My favorite book is {self.title}, which is a {self.genre} book by {self.author}.\")\n",
    "\n",
    "beck_book = Books(\"Tamsyn Muir\", \"Horror/Sci-Fi\", \"Gideon the Ninth\")"
   ]
  },
  {
   "cell_type": "code",
   "execution_count": null,
   "metadata": {},
   "outputs": [],
   "source": [
    "#Julia's answer\n",
    "\n",
    "class Dog():\n",
    "    def __init__(self, name, breed, age, tricks):\n",
    "        self.name = name\n",
    "        self.breed = breed\n",
    "        self.age = age\n",
    "        self.tricks = tricks\n",
    "        \n",
    "    def get_bio(self):\n",
    "        print(f\"{self.name} is a {self.age} year old {self.breed}\")\n",
    "        print(f\"These are thr tricks {self.name} knows:\")\n",
    "\n",
    "        for trick in self.tricks:\n",
    "            print(trick)\n",
    "            \n",
    "franny = Dog(\"Franny\", \"Labradoodle\", 2, [\"sit\", \"shake\", \"stay\", \"touch\"])\n",
    "\n",
    "def meet_dog():\n",
    "    while True:\n",
    "        response = input(\"Enter 'bio' to learn about Franny. Enter Q to quit: \").lower()\n",
    "        if response == 'q':\n",
    "            break\n",
    "        elif response == 'bio':\n",
    "            franny.get_bio()\n",
    "            \n",
    "meet_dog()"
   ]
  },
  {
   "cell_type": "markdown",
   "metadata": {},
   "source": [
    "## Inheritance <br>\n",
    "<p>You can create a child-parent relationship between two classes by using inheritance. What this allows you to do is have overriding methods, but also inherit traits from the parent class. Think of it as an actual parent and child, the child will inherit the parent's genes, as will the classes in OOP</p>"
   ]
  },
  {
   "cell_type": "markdown",
   "metadata": {},
   "source": [
    "##### Syntax for Inheriting from a Parent Class"
   ]
  },
  {
   "cell_type": "code",
   "execution_count": null,
   "metadata": {},
   "outputs": [],
   "source": [
    "#Create our Parent class - Animal\n",
    "\n",
    "class Animal():\n",
    "    ACCELERATION = 9.8\n",
    "    \n",
    "    def __init__(self, name, species, legs = 4):\n",
    "        self.name = name\n",
    "        self.species = species\n",
    "        self.legs = legs\n",
    "        \n",
    "    #Generic Parent Method\n",
    "    def makeSound(self):\n",
    "        print(\"REEEEEEEEEEEEEE\")\n",
    "        \n",
    "#Creation of our child class - dog\n",
    "class Dog(Animal):\n",
    "    SPEED = 15\n",
    "    \n",
    "    def printInfo(self):\n",
    "        print(f\"The dog runs at {self.SPEED} mph and accelerates at {self.ACCELERATION} mps^2!\")\n",
    "        \n",
    "#Creation of our grandchild class - Mut\n",
    "class Mut(Dog):\n",
    "    COLOR = \"brownish tan\"\n",
    "    #Pull in the Animal Class __init__ method by way of using the Dog Class\n",
    "    def __init__(self, name, species, eye_color, legs = 4):\n",
    "        Dog.__init__(self, name, species, legs)\n",
    "        self.eye_color = eye_color\n",
    "        \n",
    "    #Overridde the makeSound method from the Animal Class\n",
    "    def makeSound(self):\n",
    "        print(\"ruff ruff ruff\")\n",
    "        \n",
    "cheetah = Animal(\"Chester\", \"cheetah\")\n",
    "print(cheetah.name)\n",
    "print(cheetah.ACCELERATION)\n",
    "cheetah.makeSound()\n",
    "print(\"\\n\")\n",
    "lassie = Dog(\"Lassie\", \"Dog\")\n",
    "print(lassie.name)\n",
    "print(lassie.species)\n",
    "print(lassie.SPEED)\n",
    "print(lassie.ACCELERATION)\n",
    "lassie.makeSound()\n",
    "print(lassie.legs)\n",
    "lassie.printInfo()\n",
    "print(\"\\n\")\n",
    "eyo = Mut(\"Eyo\", \"Dog\", \"brown\")\n",
    "print(eyo.SPEED)\n",
    "print(eyo.ACCELERATION)\n",
    "print(eyo.eye_color)\n",
    "eyo.makeSound()\n",
    "eyo.printInfo()\n"
   ]
  },
  {
   "cell_type": "markdown",
   "metadata": {},
   "source": [
    "##### The \\__init\\__() Method for a Child Class - super()"
   ]
  },
  {
   "cell_type": "code",
   "execution_count": null,
   "metadata": {
    "scrolled": true
   },
   "outputs": [],
   "source": [
    "class Mut(Dog):\n",
    "    COLOR = \"brownish\"\n",
    "    \n",
    "    #Pulling in parent attributes by way of the super().__init__()\n",
    "    def __init__(self, name, species, eye_color, legs = 4):\n",
    "        super().__init__(name, species, legs)\n",
    "        self.eye_color = eye_color\n",
    "        #super will reference the Parent class that the child class takes in\n",
    "        #super will pull from whatever category is indicated in the parenthesis\n",
    "    def makeSound(self):\n",
    "        print(\"woooooooof\")\n",
    "        \n",
    "Franny = Mut(\"Franny\", \"Labradoodle\", \"brown\")\n",
    "\n",
    "print(Franny.name)\n",
    "print(Franny.species)\n",
    "print(Franny.eye_color)"
   ]
  },
  {
   "cell_type": "markdown",
   "metadata": {},
   "source": [
    "##### Defining Attributes and Methods for the Child Class"
   ]
  },
  {
   "cell_type": "code",
   "execution_count": null,
   "metadata": {},
   "outputs": [],
   "source": [
    "# See Above"
   ]
  },
  {
   "cell_type": "markdown",
   "metadata": {},
   "source": [
    "##### Method Overriding"
   ]
  },
  {
   "cell_type": "code",
   "execution_count": null,
   "metadata": {},
   "outputs": [],
   "source": [
    "# See Above"
   ]
  },
  {
   "cell_type": "markdown",
   "metadata": {},
   "source": [
    "## Classes as Attributes <br>\n",
    "<p>Classes can also be used as attributes within another class. This is useful in situations where you need to keep variables locally stored, instead of globally stored.</p>"
   ]
  },
  {
   "cell_type": "code",
   "execution_count": null,
   "metadata": {},
   "outputs": [],
   "source": [
    "class Battery():\n",
    "    VOLTZ = 7.8\n",
    "    \n",
    "    def __init__(self, cells):\n",
    "        sel.cells = cells\n",
    "        \n",
    "class Car():\n",
    "    def __init__(self, year, make, model, battery):\n",
    "        self.year = year\n",
    "        self.make = make\n",
    "        self.model = model\n",
    "        self.battery = battery\n",
    "        \n",
    "    def printInfo(self):\n",
    "        return "
   ]
  },
  {
   "cell_type": "markdown",
   "metadata": {},
   "source": [
    "# Exercises"
   ]
  },
  {
   "cell_type": "markdown",
   "metadata": {},
   "source": [
    "### Exercise 1 - Turn the shopping cart program from yesterday into an object-oriented program\n",
    "\n",
    "The comments in the cell below are there as a guide for thinking about the problem. However, if you feel a different way is best for you and your own thought process, please do what feels best for you by all means."
   ]
  },
  {
   "cell_type": "code",
   "execution_count": null,
   "metadata": {},
   "outputs": [],
   "source": [
    "# Create a class called cart that retains items and has methods to add, remove, and show\n",
    "\n",
    "class Cart():\n",
    "    pass\n",
    "    "
   ]
  },
  {
   "cell_type": "code",
   "execution_count": null,
   "metadata": {},
   "outputs": [],
   "source": [
    "cart = []\n",
    "    \n",
    "class Cart():\n",
    "    \n",
    "    def __init__(self, username):\n",
    "        self.username = username\n",
    "      \n",
    "    def view(self):\n",
    "        print(f\"Here are the items in your cart: \")\n",
    "        for i in cart:\n",
    "            print(f\"\\t{i.upper()}\")\n",
    "            \n",
    "    def add(self):\n",
    "        item = input(\"What would you like to add to your cart? \")\n",
    "        cart.append(item)\n",
    "        print(f\"{item.upper()} has been added to your cart.\")\n",
    "        \n",
    "    def remove(self):\n",
    "        print(cart)\n",
    "        item = input(\"What would you like to remove from your cart? \")\n",
    "        cart.remove(item)\n",
    "        print(item.upper() + \" has been removed from your cart.\")\n",
    "        \n",
    "    def clear(self):\n",
    "        cart.clear()\n",
    "        print(\"Your cart is empty.\")\n",
    "        \n",
    "    def checkout(self):\n",
    "        print(f\"Here are the items you purchased!\")\n",
    "        print(cart)\n",
    "        print(\"Thank you for shopping with us!\")\n",
    "        \n",
    "        \n",
    "cecilia_cart = Cart(\"Cecilia\")"
   ]
  },
  {
   "cell_type": "code",
   "execution_count": null,
   "metadata": {},
   "outputs": [],
   "source": [
    "print(\"Select from the list below on what to do next: \"\n",
    "    \"\\n\\t1. View cart\" \n",
    "    \"\\n\\t2. Add item to cart\" \n",
    "    \"\\n\\t3. Remove item from cart\"\n",
    "    \"\\n\\t4. Clear cart\" \n",
    "    \"\\n\\t5. Check out\"\n",
    "    \"\\n\\t6. Quit\")\n",
    "\n",
    "def run():\n",
    "    \n",
    "         while True:\n",
    "            selection = input(\"How would you like to continue? \")\n",
    "            if selection == \"1\":\n",
    "                cecilia_cart.view()\n",
    "            elif selection == \"2\":\n",
    "                cecilia_cart.add()\n",
    "            elif selection == \"3\":\n",
    "                cecilia_cart.remove()\n",
    "            elif selection == \"4\":\n",
    "                cecilia_cart.clear() \n",
    "            elif selection == \"5\":\n",
    "                cecilia_cart.checkout()\n",
    "                break\n",
    "            elif selection == \"6\":\n",
    "                print(f\"Come back soon!\")\n",
    "                break\n",
    "            else:\n",
    "                print(\"Error, please try again. \")\n",
    "                    \n",
    "run()"
   ]
  },
  {
   "cell_type": "markdown",
   "metadata": {},
   "source": [
    "### Exercise 2 - Write a Python class which has two methods get_String and print_String. get_String accept a string from the user and print_String print the string in upper case"
   ]
  },
  {
   "cell_type": "code",
   "execution_count": 1,
   "metadata": {},
   "outputs": [
    {
     "name": "stdout",
     "output_type": "stream",
     "text": [
      "Please enter your text here!Don't stop believing!\n",
      "DON'T STOP BELIEVING!\n"
     ]
    }
   ],
   "source": [
    "class Line():\n",
    "    def __init__(self):\n",
    "        self.string = \"\"\n",
    "\n",
    "    def get_String(self):\n",
    "        self.string = input(\"Please enter your text here!\")\n",
    "\n",
    "    def print_String(self):\n",
    "        print(self.string.upper())\n",
    "\n",
    "string = Line()\n",
    "string.get_String()\n",
    "string.print_String()"
   ]
  }
 ],
 "metadata": {
  "kernelspec": {
   "display_name": "Python 3 (ipykernel)",
   "language": "python",
   "name": "python3"
  },
  "language_info": {
   "codemirror_mode": {
    "name": "ipython",
    "version": 3
   },
   "file_extension": ".py",
   "mimetype": "text/x-python",
   "name": "python",
   "nbconvert_exporter": "python",
   "pygments_lexer": "ipython3",
   "version": "3.9.12"
  }
 },
 "nbformat": 4,
 "nbformat_minor": 2
}
